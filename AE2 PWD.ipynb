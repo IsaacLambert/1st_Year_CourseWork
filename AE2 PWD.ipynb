{
 "cells": [
  {
   "cell_type": "markdown",
   "metadata": {},
   "source": [
    "# The Colour Language Game"
   ]
  },
  {
   "cell_type": "markdown",
   "metadata": {},
   "source": [
    "# Abstract\n",
    "Both datasets, namely the x11 data and the colournaming.org data underwent the same preliminary stages. First, they were both opened in pandas data frames. Following this, they were cleaned by: being made all lowercase; having all white spaces and punctuation stripped; and finally, having all duplicates removed. Next, they were both converted into dictionaries in which the keys are the colour terms and the values are lists containing three elements, these being the correspond RGB values. The RGB values for the colournaming.org dictionary were formed by taking the average inputs for each present colour term from the default list. This is how the collective inteligence which constituted Bob's answers were produced. The euclidean distances between each present colour term in both dictionaries was then calculated using a list comprehension and stored in the variable 'distances'. Finally, a performance report was created which includes visualisations of the results as well as the time required to perform the calculation. These showed that Bob's answers were on the whole accurate."
   ]
  },
  {
   "cell_type": "markdown",
   "metadata": {},
   "source": [
    "# Keywords\n",
    "'white', 'black', 'red', 'yellow', 'green', 'blue', 'brown', 'purple', 'orange', 'pink', 'lorem', 'ipsum'"
   ]
  },
  {
   "cell_type": "markdown",
   "metadata": {},
   "source": [
    "# Introduction\n",
    "The purpose of this exercise is to create an artifical player refered to as Bob who when presented with a colour term provides a shade that is supposed to be representative of said colour term. The RGB values of Bob's shade are then compared to uniform RGB values of the colour terms also provided by the program to assess Bob's degree of accuracy. The uniform RGB values are derived from the x11 dataset while Bob's answers are created from taking the average RGB values from all occurances of the present colour terms in the colournaming.org dataset. The latter dataset was the product of an online experiment in which thousands of user's colour terms to various colour shades equating to various RGB values. As such, Bob can be said to have collective intelligence."
   ]
  },
  {
   "cell_type": "markdown",
   "metadata": {},
   "source": [
    "# Methodology\n",
    "* For this exercise, cleaning the data was crucial to calculating an average that was truly representative of the various user inputs. For example, some users wrote the colour terms with caps ('RED') or with adjacent spaces ('red '). For such answers to be included it was necessary to clean the data thoroughly. \n",
    "\n",
    "* To calculate the distances as quickly as possible all the RGB values were stored in dictionaries and the calculation was performed in one line of code using a list comprehension.  \n",
    "\n",
    "* Automated testing was employed to check the result of the distances. One calculation of the average of all the distances came to 92. Since, however, the distances and their subseqent average may vary based on whether only the exact colour terms were included in Bob's collated answer ('red') or whether similar terms ('reds') ('darkred') were factored in, I decided to allow for a quarter of a standard deviation of my results either way from 92.    "
   ]
  },
  {
   "cell_type": "code",
   "execution_count": 1,
   "metadata": {},
   "outputs": [],
   "source": [
    "import pandas as pd\n",
    "import numpy as np\n",
    "import matplotlib.pyplot as plt \n",
    "%matplotlib inline\n",
    "from PIL import Image\n",
    "import statistics\n",
    "import math\n",
    "import time\n",
    "import string"
   ]
  },
  {
   "cell_type": "markdown",
   "metadata": {},
   "source": [
    "Below the default list of colour terms is defined and assigned to the variable 'colour_terms'."
   ]
  },
  {
   "cell_type": "code",
   "execution_count": 2,
   "metadata": {},
   "outputs": [],
   "source": [
    "colour_terms = ['white', 'black', 'red', 'yellow', 'green', 'blue', 'brown', 'purple', 'orange', 'pink', 'lorem', 'ipsum']"
   ]
  },
  {
   "cell_type": "markdown",
   "metadata": {},
   "source": [
    "In the following two cells the data sets are preprocessed. First, the colournaming.org set then the x11 dataset which is immediately converted to the dictionary 'x11_dic'."
   ]
  },
  {
   "cell_type": "code",
   "execution_count": 3,
   "metadata": {
    "scrolled": true
   },
   "outputs": [],
   "source": [
    "df = pd.read_csv('/Users/isaaclambert/colour_naming_data.csv')\n",
    "df['colour_name'] = df['colour_name'].str.lower() #makes series all lowercase\n",
    "df['colour_name'] = df['colour_name'].str.replace(\" \", \"\") #removes white spaces from series\n",
    "\n",
    "def remove_punctuation(text):\n",
    "    '''\n",
    "    strips punctuation from dataframe series \n",
    "    '''\n",
    "    for punctuation in string.punctuation:\n",
    "        text = text.replace(punctuation, '')\n",
    "    return text\n",
    "\n",
    "df['_colour_name'] = df['colour_name'].apply(remove_punctuation) #creates unpunctuated column\n",
    "df = df.drop(['colour_name'], axis=1) #deletes punctuated column\n",
    "df = df.drop_duplicates() #drops all duplicate rows                                              "
   ]
  },
  {
   "cell_type": "code",
   "execution_count": 4,
   "metadata": {},
   "outputs": [],
   "source": [
    "x11df = pd.read_csv('/Users/isaaclambert/Desktop/rgb_x11.csv')\n",
    "x11df['Unnamed: 3'] = x11df['Unnamed: 3'].str.lower() #makes series lower case\n",
    "x11df['Unnamed: 3'] = x11df['Unnamed: 3'].str.replace(\" \", \"\") #removes white spaces from series\n",
    "x11df['colour_terms'] = x11df['Unnamed: 3'].apply(remove_punctuation) #creates unpunctuated column\n",
    "x11df = x11df.drop(['Unnamed: 3'], axis=1) #deletes punctated column\n",
    "x11df = x11df.rename(columns={\"! $XConsortium: rgb.txt,v 10.41 94/02/20 18:39:36 rws Exp $\": \"r\", \"Unnamed: 1\": \"g\", \"Unnamed: 2\": \"b\"})\n",
    "x11df = x11df.drop_duplicates() #removes duplicate rows\n",
    "\n",
    "early_dic = x11df.to_dict('index') #tranforms the dataframe into a dictionary \n",
    "x11_dic = {j[\"colour_terms\"]:[j[\"r\"], j[\"g\"], j[\"b\"]] for j in early_dic.values()} \n",
    "#forms a better formatted dictionary from the initial one"
   ]
  },
  {
   "cell_type": "markdown",
   "metadata": {},
   "source": [
    "Here a function is build to ascertain which terms from the default list are contained in the two data sets. It returns two types of list which are used later."
   ]
  },
  {
   "cell_type": "code",
   "execution_count": 5,
   "metadata": {
    "scrolled": true
   },
   "outputs": [],
   "source": [
    "def term_checker(dataframe):\n",
    "    '''\n",
    "    checks for keywords, returns terms list and yes/no list\n",
    "    '''\n",
    "    lst_of_terms = []\n",
    "    yes_no_lst = []\n",
    "    for i in colour_terms:\n",
    "        if i in dataframe.values:\n",
    "            lst_of_terms.append(i)\n",
    "            yes_no_lst.append('yes')\n",
    "        else:\n",
    "            yes_no_lst.append('no')\n",
    "    return lst_of_terms, yes_no_lst\n",
    "\n",
    "cnd_redacted, cnd_yes_no = term_checker(df)\n",
    "x11_redacted, x11_yes_no = term_checker(x11df)"
   ]
  },
  {
   "cell_type": "markdown",
   "metadata": {},
   "source": [
    "The following function works out the average for all of the inputs for each present colour term in the colournaming.org dataset and returns the result as the dictionary 'cnd_dic'."
   ]
  },
  {
   "cell_type": "code",
   "execution_count": 6,
   "metadata": {},
   "outputs": [],
   "source": [
    "def avg_calc(lst=cnd_redacted):\n",
    "    '''\n",
    "    works out average and converts to dictionary \n",
    "    '''\n",
    "    dic ={}\n",
    "    for i in lst:\n",
    "        df2 = df.loc[df['_colour_name'] == i]\n",
    "        r_avg = df2.iloc[:, 1].sum(axis=0) / len(df2.index)\n",
    "        g_avg = df2.iloc[:, 2].sum(axis=0) / len(df2.index) \n",
    "        b_avg = df2.iloc[:, 3].sum(axis=0) / len(df2.index)\n",
    "        dic.update({i: [r_avg, g_avg, b_avg]})\n",
    "    return dic\n",
    "cnd_dic = avg_calc()"
   ]
  },
  {
   "cell_type": "markdown",
   "metadata": {},
   "source": [
    "'distance_calc' works out the distances between the points for each colour term. The time taken for it to do this is recorded and printed in the performance report below."
   ]
  },
  {
   "cell_type": "code",
   "execution_count": 7,
   "metadata": {},
   "outputs": [],
   "source": [
    "def distance_calc(dic1=cnd_dic, dic2=x11_dic, terms=cnd_redacted):\n",
    "    '''\n",
    "    works out euclidian distances between 3 dimensional points\n",
    "    '''\n",
    "    lst = [math.sqrt((dic1[i][0]-dic2[i][0])**2 + (dic1[i][1]-dic2[i][1])**2 + (dic1[i][2]-dic2[i][2])**2)for i in terms]\n",
    "    return lst\n",
    "\n",
    "start = time.time()\n",
    "distances = distance_calc() \n",
    "end = time.time()"
   ]
  },
  {
   "cell_type": "markdown",
   "metadata": {},
   "source": [
    "# Performance Report"
   ]
  },
  {
   "cell_type": "code",
   "execution_count": 8,
   "metadata": {},
   "outputs": [
    {
     "name": "stdout",
     "output_type": "stream",
     "text": [
      "Time required to calculated Euclidean distance between\n",
      "Bob's answers and the x11 dataset: 0.00010967254638671875 seconds\n"
     ]
    },
    {
     "data": {
      "text/html": [
       "<div>\n",
       "<style scoped>\n",
       "    .dataframe tbody tr th:only-of-type {\n",
       "        vertical-align: middle;\n",
       "    }\n",
       "\n",
       "    .dataframe tbody tr th {\n",
       "        vertical-align: top;\n",
       "    }\n",
       "\n",
       "    .dataframe thead th {\n",
       "        text-align: right;\n",
       "    }\n",
       "</style>\n",
       "<table border=\"1\" class=\"dataframe\">\n",
       "  <thead>\n",
       "    <tr style=\"text-align: right;\">\n",
       "      <th></th>\n",
       "      <th>Known by Bob</th>\n",
       "      <th>Known by x11 dataset</th>\n",
       "    </tr>\n",
       "  </thead>\n",
       "  <tbody>\n",
       "    <tr>\n",
       "      <th>white</th>\n",
       "      <td>yes</td>\n",
       "      <td>yes</td>\n",
       "    </tr>\n",
       "    <tr>\n",
       "      <th>black</th>\n",
       "      <td>yes</td>\n",
       "      <td>yes</td>\n",
       "    </tr>\n",
       "    <tr>\n",
       "      <th>red</th>\n",
       "      <td>yes</td>\n",
       "      <td>yes</td>\n",
       "    </tr>\n",
       "    <tr>\n",
       "      <th>yellow</th>\n",
       "      <td>yes</td>\n",
       "      <td>yes</td>\n",
       "    </tr>\n",
       "    <tr>\n",
       "      <th>green</th>\n",
       "      <td>yes</td>\n",
       "      <td>yes</td>\n",
       "    </tr>\n",
       "    <tr>\n",
       "      <th>blue</th>\n",
       "      <td>yes</td>\n",
       "      <td>yes</td>\n",
       "    </tr>\n",
       "    <tr>\n",
       "      <th>brown</th>\n",
       "      <td>yes</td>\n",
       "      <td>yes</td>\n",
       "    </tr>\n",
       "    <tr>\n",
       "      <th>purple</th>\n",
       "      <td>yes</td>\n",
       "      <td>yes</td>\n",
       "    </tr>\n",
       "    <tr>\n",
       "      <th>orange</th>\n",
       "      <td>yes</td>\n",
       "      <td>yes</td>\n",
       "    </tr>\n",
       "    <tr>\n",
       "      <th>pink</th>\n",
       "      <td>yes</td>\n",
       "      <td>yes</td>\n",
       "    </tr>\n",
       "    <tr>\n",
       "      <th>lorem</th>\n",
       "      <td>no</td>\n",
       "      <td>no</td>\n",
       "    </tr>\n",
       "    <tr>\n",
       "      <th>ipsum</th>\n",
       "      <td>no</td>\n",
       "      <td>no</td>\n",
       "    </tr>\n",
       "  </tbody>\n",
       "</table>\n",
       "</div>"
      ],
      "text/plain": [
       "       Known by Bob Known by x11 dataset\n",
       "white           yes                  yes\n",
       "black           yes                  yes\n",
       "red             yes                  yes\n",
       "yellow          yes                  yes\n",
       "green           yes                  yes\n",
       "blue            yes                  yes\n",
       "brown           yes                  yes\n",
       "purple          yes                  yes\n",
       "orange          yes                  yes\n",
       "pink            yes                  yes\n",
       "lorem            no                   no\n",
       "ipsum            no                   no"
      ]
     },
     "metadata": {},
     "output_type": "display_data"
    }
   ],
   "source": [
    "print('''Time required to calculated Euclidean distance between\n",
    "Bob's answers and the x11 dataset: ''' + str(end - start) + \" seconds\")\n",
    "term_results_dic = {colour_terms[i]:[cnd_yes_no[i], x11_yes_no[i]] for i in range(len(colour_terms))}\n",
    "results_df = pd.DataFrame.from_dict(term_results_dic, orient='index', columns=['Known by Bob', 'Known by x11 dataset'])\n",
    "display(results_df)    \n",
    "\n"
   ]
  },
  {
   "cell_type": "code",
   "execution_count": 9,
   "metadata": {},
   "outputs": [
    {
     "data": {
      "text/plain": [
       "([0, 1, 2, 3, 4, 5, 6, 7, 8, 9], <a list of 10 Text major ticklabel objects>)"
      ]
     },
     "execution_count": 9,
     "metadata": {},
     "output_type": "execute_result"
    },
    {
     "data": {
      "image/png": "[encoded data removed]",
      "text/plain": [
       "<Figure size 1008x432 with 1 Axes>"
      ]
     },
     "metadata": {
      "needs_background": "light"
     },
     "output_type": "display_data"
    }
   ],
   "source": [
    "plt.rc('font', **{'family':'sans-serif','sans-serif':['Arial'], 'size': 16})\n",
    "plt.bar(cnd_redacted, distances, color=cnd_redacted, edgecolor='black')\n",
    "plt.title(\"Euclidean distances between Bob's answers and the x11 dataset for each available colour term \")\n",
    "plt.ylabel(\"Distances\")\n",
    "fig = plt.gcf()\n",
    "fig.set_size_inches(14, 6)\n",
    "ax = plt.gca()\n",
    "ax.set_xlabel(\"Colours\")\n",
    "plt.xticks(rotation=60)"
   ]
  },
  {
   "cell_type": "markdown",
   "metadata": {},
   "source": [
    "Below, the top half of each square is a shade generated by the RGB values from the x11 dictionary while the bottom half is a shade generated by the RGB values from Bob's dictionary. We can therefore, visualise the distances between the two by comparing the contrast of the two shades."
   ]
  },
  {
   "cell_type": "code",
   "execution_count": 10,
   "metadata": {},
   "outputs": [
    {
     "data": {
      "image/png": "[encoded data removed]",
      "text/plain": [
       "<Figure size 432x288 with 1 Axes>"
      ]
     },
     "metadata": {
      "needs_background": "light"
     },
     "output_type": "display_data"
    },
    {
     "data": {
      "image/png": "[encoded data removed]",
      "text/plain": [
       "<Figure size 432x288 with 1 Axes>"
      ]
     },
     "metadata": {
      "needs_background": "light"
     },
     "output_type": "display_data"
    },
    {
     "data": {
      "image/png": "[encoded data removed]",
      "text/plain": [
       "<Figure size 432x288 with 1 Axes>"
      ]
     },
     "metadata": {
      "needs_background": "light"
     },
     "output_type": "display_data"
    },
    {
     "data": {
      "image/png": "[encoded data removed]",
      "text/plain": [
       "<Figure size 432x288 with 1 Axes>"
      ]
     },
     "metadata": {
      "needs_background": "light"
     },
     "output_type": "display_data"
    },
    {
     "data": {
      "image/png": "[encoded data removed]",
      "text/plain": [
       "<Figure size 432x288 with 1 Axes>"
      ]
     },
     "metadata": {
      "needs_background": "light"
     },
     "output_type": "display_data"
    },
    {
     "data": {
      "image/png": "[encoded data removed]",
      "text/plain": [
       "<Figure size 432x288 with 1 Axes>"
      ]
     },
     "metadata": {
      "needs_background": "light"
     },
     "output_type": "display_data"
    },
    {
     "data": {
      "image/png": "[encoded data removed]",
      "text/plain": [
       "<Figure size 432x288 with 1 Axes>"
      ]
     },
     "metadata": {
      "needs_background": "light"
     },
     "output_type": "display_data"
    },
    {
     "data": {
      "image/png": "[encoded data removed]",
      "text/plain": [
       "<Figure size 432x288 with 1 Axes>"
      ]
     },
     "metadata": {
      "needs_background": "light"
     },
     "output_type": "display_data"
    },
    {
     "data": {
      "image/png": "[encoded data removed]",
      "text/plain": [
       "<Figure size 432x288 with 1 Axes>"
      ]
     },
     "metadata": {
      "needs_background": "light"
     },
     "output_type": "display_data"
    },
    {
     "data": {
      "image/png": "[encoded data removed]",
      "text/plain": [
       "<Figure size 432x288 with 1 Axes>"
      ]
     },
     "metadata": {
      "needs_background": "light"
     },
     "output_type": "display_data"
    }
   ],
   "source": [
    "colours = np.zeros([100, 100, 3], dtype=np.uint8)\n",
    "for i in cnd_redacted:\n",
    "    colours[50:,:] = [cnd_dic[i][0], cnd_dic[i][1], cnd_dic[i][-1]] \n",
    "    colours[: 50,:] = [x11_dic[i][0], x11_dic[i][1] , x11_dic[i][-1]] \n",
    "    img = Image.fromarray(colours)\n",
    "    imgplot = plt.imshow(img)\n",
    "    plt.title(i)\n",
    "    plt.show()"
   ]
  },
  {
   "cell_type": "markdown",
   "metadata": {},
   "source": [
    "Below, automated testing is used to check our results."
   ]
  },
  {
   "cell_type": "code",
   "execution_count": 14,
   "metadata": {},
   "outputs": [],
   "source": [
    "avg = statistics.mean(distances)\n",
    "std = statistics.stdev(distances)\n",
    "assert avg < 92 + 0.25*std and avg > 92 - 0.25*std"
   ]
  },
  {
   "cell_type": "code",
   "execution_count": 12,
   "metadata": {},
   "outputs": [
    {
     "name": "stdout",
     "output_type": "stream",
     "text": [
      "0.20597685660312026\n"
     ]
    }
   ],
   "source": [
    "print((avg - 92)/std)"
   ]
  },
  {
   "cell_type": "markdown",
   "metadata": {},
   "source": [
    "# Conclusion and Results\n",
    "* All of the default terms with the exception of 'ipsum' and 'lorem' were present in both data sets.\n",
    "* My results indicate that on the whole Bob's answers were fairly accurate yet none of his answers converged exaclty. From the graph, we can clearly see that'black' and 'brown' were the most accurate while 'green' and 'blue' were the least accurate.\n",
    "* My results were calucated in a quick period of time.\n",
    "* My results were comfortably within an accurate range since they deviated from 92 by 0.206 (3sf) standard deviations of the 'distances' dataset."
   ]
  },
  {
   "cell_type": "markdown",
   "metadata": {},
   "source": [
    "# Ethical Reflections\n",
    "The majority of this project consisted of reformating data as well as making calculations with said data. These areas were not of any ethical significance. There was, however, one area of ethical significance which was making sure the averages which constituted Bob's answers were truly repersentative of all of the user inputs. To ensure this was the case proper preprocessing was crucial. Related to this point was the question of whether to only include exact terms or whether any semantically similar alternate terms might be included. This is a subjective consideration making transparency key. In the end for the sake of simplicty, I decided to only include exact terms."
   ]
  },
  {
   "cell_type": "markdown",
   "metadata": {},
   "source": [
    "# References\n",
    "* [remove_punctuation function, Arthur Gouveia, 21/01/21](https://stackoverflow.com/questions/39782418/remove-punctuations-in-pandas)\n",
    "* create RGB images, WK10_Interactive_Lecture, Dimitris Mylonas, 27/01/21\n",
    "* increase font size of graph, Notebook for data representations, Alexandros Koliousis, 29/01/21\n",
    "\n"
   ]
  },
  {
   "cell_type": "code",
   "execution_count": null,
   "metadata": {},
   "outputs": [],
   "source": []
  }
 ],
 "metadata": {
  "kernelspec": {
   "display_name": "Python 3",
   "language": "python",
   "name": "python3"
  },
  "language_info": {
   "codemirror_mode": {
    "name": "ipython",
    "version": 3
   },
   "file_extension": ".py",
   "mimetype": "text/x-python",
   "name": "python",
   "nbconvert_exporter": "python",
   "pygments_lexer": "ipython3",
   "version": "3.8.3"
  }
 },
 "nbformat": 4,
 "nbformat_minor": 4
}
